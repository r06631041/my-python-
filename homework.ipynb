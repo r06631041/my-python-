{
 "cells": [
  {
   "cell_type": "code",
   "execution_count": 23,
   "metadata": {
    "collapsed": true
   },
   "outputs": [],
   "source": [
    "%matplotlib inline\n",
    "\n",
    "import numpy as np\n",
    "import matplotlib.pyplot as plt\n",
    "import pandas as pd\n",
    "import locale"
   ]
  },
  {
   "cell_type": "code",
   "execution_count": 24,
   "metadata": {
    "collapsed": true
   },
   "outputs": [],
   "source": [
    "import matplotlib as mpl"
   ]
  },
  {
   "cell_type": "code",
   "execution_count": 25,
   "metadata": {
    "collapsed": true
   },
   "outputs": [],
   "source": [
    "mpl.rc('font', family='Noto Sans CJK TC')"
   ]
  },
  {
   "cell_type": "code",
   "execution_count": 26,
   "metadata": {
    "collapsed": true
   },
   "outputs": [],
   "source": [
    "df=pd.read_csv(\"https://quality.data.gov.tw/dq_download_csv.php?nid=23791&md5_url=3a34cd5f6325b5403fc370b1bdf905b8\")"
   ]
  },
  {
   "cell_type": "code",
   "execution_count": 27,
   "metadata": {},
   "outputs": [
    {
     "data": {
      "text/html": [
       "<div>\n",
       "<style>\n",
       "    .dataframe thead tr:only-child th {\n",
       "        text-align: right;\n",
       "    }\n",
       "\n",
       "    .dataframe thead th {\n",
       "        text-align: left;\n",
       "    }\n",
       "\n",
       "    .dataframe tbody tr th {\n",
       "        vertical-align: top;\n",
       "    }\n",
       "</style>\n",
       "<table border=\"1\" class=\"dataframe\">\n",
       "  <thead>\n",
       "    <tr style=\"text-align: right;\">\n",
       "      <th></th>\n",
       "      <th>役別</th>\n",
       "      <th>100年撥交人數</th>\n",
       "      <th>100年比率</th>\n",
       "      <th>101年撥交人數</th>\n",
       "      <th>101年比率</th>\n",
       "      <th>102年撥交人數</th>\n",
       "      <th>102年比率</th>\n",
       "      <th>103年撥交人數</th>\n",
       "      <th>103年比率</th>\n",
       "      <th>104年撥交人數</th>\n",
       "      <th>104年比率</th>\n",
       "      <th>105年撥交人數</th>\n",
       "      <th>105年比率</th>\n",
       "      <th>106年撥交人數</th>\n",
       "      <th>106年比率</th>\n",
       "    </tr>\n",
       "  </thead>\n",
       "  <tbody>\n",
       "    <tr>\n",
       "      <th>0</th>\n",
       "      <td>警察役</td>\n",
       "      <td>3,743</td>\n",
       "      <td>20.67%</td>\n",
       "      <td>2,582</td>\n",
       "      <td>14.70%</td>\n",
       "      <td>5,779</td>\n",
       "      <td>19.47%</td>\n",
       "      <td>5,745</td>\n",
       "      <td>18.09%</td>\n",
       "      <td>3,122</td>\n",
       "      <td>13.24%</td>\n",
       "      <td>5,303</td>\n",
       "      <td>18.15%</td>\n",
       "      <td>3,084</td>\n",
       "      <td>14.13%</td>\n",
       "    </tr>\n",
       "    <tr>\n",
       "      <th>1</th>\n",
       "      <td>消防役</td>\n",
       "      <td>1,260</td>\n",
       "      <td>6.96%</td>\n",
       "      <td>1,000</td>\n",
       "      <td>5.69%</td>\n",
       "      <td>2,988</td>\n",
       "      <td>10.07%</td>\n",
       "      <td>3,253</td>\n",
       "      <td>10.24%</td>\n",
       "      <td>2,099</td>\n",
       "      <td>8.90%</td>\n",
       "      <td>3,207</td>\n",
       "      <td>10.97%</td>\n",
       "      <td>2,564</td>\n",
       "      <td>11.74%</td>\n",
       "    </tr>\n",
       "    <tr>\n",
       "      <th>2</th>\n",
       "      <td>社會役</td>\n",
       "      <td>2,627</td>\n",
       "      <td>14.51%</td>\n",
       "      <td>2,551</td>\n",
       "      <td>14.52%</td>\n",
       "      <td>3,002</td>\n",
       "      <td>10.11%</td>\n",
       "      <td>2,662</td>\n",
       "      <td>8.38%</td>\n",
       "      <td>2,135</td>\n",
       "      <td>9.05%</td>\n",
       "      <td>2,484</td>\n",
       "      <td>8.50%</td>\n",
       "      <td>2,564</td>\n",
       "      <td>11.74%</td>\n",
       "    </tr>\n",
       "    <tr>\n",
       "      <th>3</th>\n",
       "      <td>環保役</td>\n",
       "      <td>984</td>\n",
       "      <td>5.44%</td>\n",
       "      <td>1,010</td>\n",
       "      <td>5.75%</td>\n",
       "      <td>1,334</td>\n",
       "      <td>4.49%</td>\n",
       "      <td>1,358</td>\n",
       "      <td>4.28%</td>\n",
       "      <td>1,122</td>\n",
       "      <td>4.76%</td>\n",
       "      <td>1264</td>\n",
       "      <td>4.33%</td>\n",
       "      <td>856</td>\n",
       "      <td>3.92%</td>\n",
       "    </tr>\n",
       "    <tr>\n",
       "      <th>4</th>\n",
       "      <td>醫療役</td>\n",
       "      <td>400</td>\n",
       "      <td>2.21%</td>\n",
       "      <td>409</td>\n",
       "      <td>2.33%</td>\n",
       "      <td>595</td>\n",
       "      <td>2.00%</td>\n",
       "      <td>400</td>\n",
       "      <td>1.26%</td>\n",
       "      <td>308</td>\n",
       "      <td>1.31%</td>\n",
       "      <td>350</td>\n",
       "      <td>1.20%</td>\n",
       "      <td>433</td>\n",
       "      <td>1.98%</td>\n",
       "    </tr>\n",
       "  </tbody>\n",
       "</table>\n",
       "</div>"
      ],
      "text/plain": [
       "    役別 100年撥交人數  100年比率 101年撥交人數  101年比率 102年撥交人數  102年比率 103年撥交人數  103年比率  \\\n",
       "0  警察役    3,743  20.67%    2,582  14.70%    5,779  19.47%    5,745  18.09%   \n",
       "1  消防役    1,260   6.96%    1,000   5.69%    2,988  10.07%    3,253  10.24%   \n",
       "2  社會役    2,627  14.51%    2,551  14.52%    3,002  10.11%    2,662   8.38%   \n",
       "3  環保役      984   5.44%    1,010   5.75%    1,334   4.49%    1,358   4.28%   \n",
       "4  醫療役      400   2.21%      409   2.33%      595   2.00%      400   1.26%   \n",
       "\n",
       "  104年撥交人數  104年比率 105年撥交人數  105年比率 106年撥交人數  106年比率  \n",
       "0    3,122  13.24%    5,303  18.15%    3,084  14.13%  \n",
       "1    2,099   8.90%    3,207  10.97%    2,564  11.74%  \n",
       "2    2,135   9.05%    2,484   8.50%    2,564  11.74%  \n",
       "3    1,122   4.76%     1264   4.33%      856   3.92%  \n",
       "4      308   1.31%      350   1.20%      433   1.98%  "
      ]
     },
     "execution_count": 27,
     "metadata": {},
     "output_type": "execute_result"
    }
   ],
   "source": [
    "df.head()"
   ]
  },
  {
   "cell_type": "code",
   "execution_count": 28,
   "metadata": {},
   "outputs": [
    {
     "data": {
      "text/plain": [
       "'Chinese (Traditional)_Taiwan.950'"
      ]
     },
     "execution_count": 28,
     "metadata": {},
     "output_type": "execute_result"
    }
   ],
   "source": [
    "locale.setlocale(locale.LC_NUMERIC, '')"
   ]
  },
  {
   "cell_type": "code",
   "execution_count": 29,
   "metadata": {
    "collapsed": true
   },
   "outputs": [],
   "source": [
    "df['100年撥交人數']= df['100年撥交人數'].apply(locale.atof)"
   ]
  },
  {
   "cell_type": "code",
   "execution_count": 30,
   "metadata": {},
   "outputs": [],
   "source": [
    "df['106年撥交人數'] = df['106年撥交人數'].apply(locale.atof)"
   ]
  },
  {
   "cell_type": "code",
   "execution_count": 31,
   "metadata": {},
   "outputs": [],
   "source": [
    "df['100年到106年減少人數'] = df['100年撥交人數'] / df['106年撥交人數']"
   ]
  },
  {
   "cell_type": "code",
   "execution_count": 32,
   "metadata": {},
   "outputs": [
    {
     "data": {
      "text/html": [
       "<div>\n",
       "<style>\n",
       "    .dataframe thead tr:only-child th {\n",
       "        text-align: right;\n",
       "    }\n",
       "\n",
       "    .dataframe thead th {\n",
       "        text-align: left;\n",
       "    }\n",
       "\n",
       "    .dataframe tbody tr th {\n",
       "        vertical-align: top;\n",
       "    }\n",
       "</style>\n",
       "<table border=\"1\" class=\"dataframe\">\n",
       "  <thead>\n",
       "    <tr style=\"text-align: right;\">\n",
       "      <th></th>\n",
       "      <th>役別</th>\n",
       "      <th>100年撥交人數</th>\n",
       "      <th>100年比率</th>\n",
       "      <th>101年撥交人數</th>\n",
       "      <th>101年比率</th>\n",
       "      <th>102年撥交人數</th>\n",
       "      <th>102年比率</th>\n",
       "      <th>103年撥交人數</th>\n",
       "      <th>103年比率</th>\n",
       "      <th>104年撥交人數</th>\n",
       "      <th>104年比率</th>\n",
       "      <th>105年撥交人數</th>\n",
       "      <th>105年比率</th>\n",
       "      <th>106年撥交人數</th>\n",
       "      <th>106年比率</th>\n",
       "      <th>100年到106年減少人數</th>\n",
       "    </tr>\n",
       "  </thead>\n",
       "  <tbody>\n",
       "    <tr>\n",
       "      <th>0</th>\n",
       "      <td>警察役</td>\n",
       "      <td>3743.0</td>\n",
       "      <td>20.67%</td>\n",
       "      <td>2,582</td>\n",
       "      <td>14.70%</td>\n",
       "      <td>5,779</td>\n",
       "      <td>19.47%</td>\n",
       "      <td>5,745</td>\n",
       "      <td>18.09%</td>\n",
       "      <td>3,122</td>\n",
       "      <td>13.24%</td>\n",
       "      <td>5,303</td>\n",
       "      <td>18.15%</td>\n",
       "      <td>3084.0</td>\n",
       "      <td>14.13%</td>\n",
       "      <td>1.213684</td>\n",
       "    </tr>\n",
       "    <tr>\n",
       "      <th>1</th>\n",
       "      <td>消防役</td>\n",
       "      <td>1260.0</td>\n",
       "      <td>6.96%</td>\n",
       "      <td>1,000</td>\n",
       "      <td>5.69%</td>\n",
       "      <td>2,988</td>\n",
       "      <td>10.07%</td>\n",
       "      <td>3,253</td>\n",
       "      <td>10.24%</td>\n",
       "      <td>2,099</td>\n",
       "      <td>8.90%</td>\n",
       "      <td>3,207</td>\n",
       "      <td>10.97%</td>\n",
       "      <td>2564.0</td>\n",
       "      <td>11.74%</td>\n",
       "      <td>0.491420</td>\n",
       "    </tr>\n",
       "    <tr>\n",
       "      <th>2</th>\n",
       "      <td>社會役</td>\n",
       "      <td>2627.0</td>\n",
       "      <td>14.51%</td>\n",
       "      <td>2,551</td>\n",
       "      <td>14.52%</td>\n",
       "      <td>3,002</td>\n",
       "      <td>10.11%</td>\n",
       "      <td>2,662</td>\n",
       "      <td>8.38%</td>\n",
       "      <td>2,135</td>\n",
       "      <td>9.05%</td>\n",
       "      <td>2,484</td>\n",
       "      <td>8.50%</td>\n",
       "      <td>2564.0</td>\n",
       "      <td>11.74%</td>\n",
       "      <td>1.024571</td>\n",
       "    </tr>\n",
       "    <tr>\n",
       "      <th>3</th>\n",
       "      <td>環保役</td>\n",
       "      <td>984.0</td>\n",
       "      <td>5.44%</td>\n",
       "      <td>1,010</td>\n",
       "      <td>5.75%</td>\n",
       "      <td>1,334</td>\n",
       "      <td>4.49%</td>\n",
       "      <td>1,358</td>\n",
       "      <td>4.28%</td>\n",
       "      <td>1,122</td>\n",
       "      <td>4.76%</td>\n",
       "      <td>1264</td>\n",
       "      <td>4.33%</td>\n",
       "      <td>856.0</td>\n",
       "      <td>3.92%</td>\n",
       "      <td>1.149533</td>\n",
       "    </tr>\n",
       "    <tr>\n",
       "      <th>4</th>\n",
       "      <td>醫療役</td>\n",
       "      <td>400.0</td>\n",
       "      <td>2.21%</td>\n",
       "      <td>409</td>\n",
       "      <td>2.33%</td>\n",
       "      <td>595</td>\n",
       "      <td>2.00%</td>\n",
       "      <td>400</td>\n",
       "      <td>1.26%</td>\n",
       "      <td>308</td>\n",
       "      <td>1.31%</td>\n",
       "      <td>350</td>\n",
       "      <td>1.20%</td>\n",
       "      <td>433.0</td>\n",
       "      <td>1.98%</td>\n",
       "      <td>0.923788</td>\n",
       "    </tr>\n",
       "  </tbody>\n",
       "</table>\n",
       "</div>"
      ],
      "text/plain": [
       "    役別  100年撥交人數  100年比率 101年撥交人數  101年比率 102年撥交人數  102年比率 103年撥交人數  103年比率  \\\n",
       "0  警察役    3743.0  20.67%    2,582  14.70%    5,779  19.47%    5,745  18.09%   \n",
       "1  消防役    1260.0   6.96%    1,000   5.69%    2,988  10.07%    3,253  10.24%   \n",
       "2  社會役    2627.0  14.51%    2,551  14.52%    3,002  10.11%    2,662   8.38%   \n",
       "3  環保役     984.0   5.44%    1,010   5.75%    1,334   4.49%    1,358   4.28%   \n",
       "4  醫療役     400.0   2.21%      409   2.33%      595   2.00%      400   1.26%   \n",
       "\n",
       "  104年撥交人數  104年比率 105年撥交人數  105年比率  106年撥交人數  106年比率  100年到106年減少人數  \n",
       "0    3,122  13.24%    5,303  18.15%    3084.0  14.13%       1.213684  \n",
       "1    2,099   8.90%    3,207  10.97%    2564.0  11.74%       0.491420  \n",
       "2    2,135   9.05%    2,484   8.50%    2564.0  11.74%       1.024571  \n",
       "3    1,122   4.76%     1264   4.33%     856.0   3.92%       1.149533  \n",
       "4      308   1.31%      350   1.20%     433.0   1.98%       0.923788  "
      ]
     },
     "execution_count": 32,
     "metadata": {},
     "output_type": "execute_result"
    }
   ],
   "source": [
    "df.head()"
   ]
  },
  {
   "cell_type": "code",
   "execution_count": 34,
   "metadata": {},
   "outputs": [
    {
     "data": {
      "text/plain": [
       "<matplotlib.axes._subplots.AxesSubplot at 0x238aeb2c1d0>"
      ]
     },
     "execution_count": 34,
     "metadata": {},
     "output_type": "execute_result"
    },
    {
     "name": "stderr",
     "output_type": "stream",
     "text": [
      "C:\\Users\\r0663\\Anaconda3\\lib\\site-packages\\matplotlib\\font_manager.py:1297: UserWarning: findfont: Font family ['Noto Sans CJK TC'] not found. Falling back to DejaVu Sans\n",
      "  (prop.get_family(), self.defaultFamily[fontext]))\n"
     ]
    },
    {
     "data": {
      "image/png": "[encoded data removed]",
      "text/plain": [
       "<matplotlib.figure.Figure at 0x238aed28a90>"
      ]
     },
     "metadata": {},
     "output_type": "display_data"
    }
   ],
   "source": [
    "df[:10].plot.bar(x='役別', y=['100年到106年減少人數'])"
   ]
  },
  {
   "cell_type": "code",
   "execution_count": null,
   "metadata": {
    "collapsed": true
   },
   "outputs": [],
   "source": []
  }
 ],
 "metadata": {
  "kernelspec": {
   "display_name": "Python 3",
   "language": "python",
   "name": "python3"
  },
  "language_info": {
   "codemirror_mode": {
    "name": "ipython",
    "version": 3
   },
   "file_extension": ".py",
   "mimetype": "text/x-python",
   "name": "python",
   "nbconvert_exporter": "python",
   "pygments_lexer": "ipython3",
   "version": "3.6.1"
  }
 },
 "nbformat": 4,
 "nbformat_minor": 2
}
