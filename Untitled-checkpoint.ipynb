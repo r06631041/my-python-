{
 "cells": [
  {
   "cell_type": "code",
   "execution_count": 1,
   "metadata": {},
   "outputs": [],
   "source": [
    "%matplotlib inline\n",
    "import numpy as np\n",
    "import matplotlib.pyplot as plt"
   ]
  },
  {
   "cell_type": "code",
   "execution_count": 2,
   "metadata": {},
   "outputs": [
    {
     "name": "stderr",
     "output_type": "stream",
     "text": [
      "Using TensorFlow backend.\n"
     ]
    }
   ],
   "source": [
    "from keras.datasets import mnist"
   ]
  },
  {
   "cell_type": "code",
   "execution_count": 3,
   "metadata": {},
   "outputs": [],
   "source": [
    "(x_train , y_train) , (x_test ,y_test) =mnist.load_data()"
   ]
  },
  {
   "cell_type": "code",
   "execution_count": 4,
   "metadata": {},
   "outputs": [
    {
     "data": {
      "text/plain": [
       "10000"
      ]
     },
     "execution_count": 4,
     "metadata": {},
     "output_type": "execute_result"
    }
   ],
   "source": [
    "##看長的如何\n",
    "len(x_test)"
   ]
  },
  {
   "cell_type": "code",
   "execution_count": 5,
   "metadata": {},
   "outputs": [
    {
     "data": {
      "text/plain": [
       "60000"
      ]
     },
     "execution_count": 5,
     "metadata": {},
     "output_type": "execute_result"
    }
   ],
   "source": [
    "len(x_train)"
   ]
  },
  {
   "cell_type": "code",
   "execution_count": 6,
   "metadata": {},
   "outputs": [],
   "source": [
    "sample=x_train[87]  #0是白色 "
   ]
  },
  {
   "cell_type": "code",
   "execution_count": 7,
   "metadata": {},
   "outputs": [
    {
     "data": {
      "text/plain": [
       "(28, 28)"
      ]
     },
     "execution_count": 7,
     "metadata": {},
     "output_type": "execute_result"
    }
   ],
   "source": [
    "sample.shape"
   ]
  },
  {
   "cell_type": "code",
   "execution_count": 8,
   "metadata": {},
   "outputs": [
    {
     "data": {
      "text/plain": [
       "<matplotlib.image.AxesImage at 0x2624bcb5e48>"
      ]
     },
     "execution_count": 8,
     "metadata": {},
     "output_type": "execute_result"
    },
    {
     "data": {
      "image/png": "[encoded data removed]",
      "text/plain": [
       "<Figure size 432x288 with 1 Axes>"
      ]
     },
     "metadata": {
      "needs_background": "light"
     },
     "output_type": "display_data"
    }
   ],
   "source": [
    "plt.imshow(sample,cmap=\"Greys\")  #畫圖"
   ]
  },
  {
   "cell_type": "code",
   "execution_count": 9,
   "metadata": {},
   "outputs": [
    {
     "data": {
      "text/plain": [
       "9"
      ]
     },
     "execution_count": 9,
     "metadata": {},
     "output_type": "execute_result"
    }
   ],
   "source": [
    "y_train[87]"
   ]
  },
  {
   "cell_type": "code",
   "execution_count": 10,
   "metadata": {},
   "outputs": [
    {
     "data": {
      "text/plain": [
       "(60000, 28, 28)"
      ]
     },
     "execution_count": 10,
     "metadata": {},
     "output_type": "execute_result"
    }
   ],
   "source": [
    "x_train.shape  ##拉平28*28"
   ]
  },
  {
   "cell_type": "code",
   "execution_count": 11,
   "metadata": {},
   "outputs": [
    {
     "data": {
      "text/plain": [
       "(10000, 28, 28)"
      ]
     },
     "execution_count": 11,
     "metadata": {},
     "output_type": "execute_result"
    }
   ],
   "source": [
    "x_test.shape   ##拉平28*28"
   ]
  },
  {
   "cell_type": "code",
   "execution_count": 12,
   "metadata": {},
   "outputs": [],
   "source": [
    "x_train=x_train.reshape(60000,784)\n",
    "x_test=x_test.reshape(10000,784)"
   ]
  },
  {
   "cell_type": "code",
   "execution_count": 13,
   "metadata": {},
   "outputs": [],
   "source": [
    "x_train=x_train/255  #正規畫\n",
    "x_test=x_test/255"
   ]
  },
  {
   "cell_type": "markdown",
   "metadata": {},
   "source": [
    "## one hot incoding"
   ]
  },
  {
   "cell_type": "code",
   "execution_count": 14,
   "metadata": {},
   "outputs": [],
   "source": [
    "from keras.utils import np_utils"
   ]
  },
  {
   "cell_type": "code",
   "execution_count": 15,
   "metadata": {},
   "outputs": [],
   "source": [
    "y_train=np_utils.to_categorical(y_train,10) #分類10種\n",
    "y_test=np_utils.to_categorical(y_test,10) #分類10種"
   ]
  },
  {
   "cell_type": "code",
   "execution_count": 16,
   "metadata": {},
   "outputs": [
    {
     "data": {
      "text/plain": [
       "array([0., 1., 0., 0., 0., 0., 0., 0., 0., 0.], dtype=float32)"
      ]
     },
     "execution_count": 16,
     "metadata": {},
     "output_type": "execute_result"
    }
   ],
   "source": [
    "y_test[2]  #改完形式了"
   ]
  },
  {
   "cell_type": "markdown",
   "metadata": {},
   "source": [
    "# 建立神經網路"
   ]
  },
  {
   "cell_type": "code",
   "execution_count": 17,
   "metadata": {},
   "outputs": [],
   "source": [
    "from keras.models import Sequential  #function api\n",
    "from keras.layers import Dense,Activation\n",
    "from keras.optimizers import SGD , Adam\n",
    "from keras.layers import Dropout\n",
    "from keras import regularizers"
   ]
  },
  {
   "cell_type": "code",
   "execution_count": 18,
   "metadata": {},
   "outputs": [],
   "source": [
    "model= Sequential() #大開Sequential 的學習機"
   ]
  },
  {
   "cell_type": "code",
   "execution_count": 19,
   "metadata": {
    "scrolled": true
   },
   "outputs": [
    {
     "name": "stdout",
     "output_type": "stream",
     "text": [
      "WARNING:tensorflow:From C:\\Users\\David\\Anaconda3\\envs\\tensorflow-gpu\\lib\\site-packages\\tensorflow\\python\\framework\\op_def_library.py:263: colocate_with (from tensorflow.python.framework.ops) is deprecated and will be removed in a future version.\n",
      "Instructions for updating:\n",
      "Colocations handled automatically by placer.\n",
      "WARNING:tensorflow:From C:\\Users\\David\\Anaconda3\\envs\\tensorflow-gpu\\lib\\site-packages\\keras\\backend\\tensorflow_backend.py:3445: calling dropout (from tensorflow.python.ops.nn_ops) with keep_prob is deprecated and will be removed in a future version.\n",
      "Instructions for updating:\n",
      "Please use `rate` instead of `keep_prob`. Rate should be set to `rate = 1 - keep_prob`.\n"
     ]
    }
   ],
   "source": [
    "model.add(Dense( 1000,\n",
    "                input_dim=784,\n",
    "                kernel_initializer=\"normal\",\n",
    "               \n",
    "                bias_initializer=\"zeros\"\n",
    "                \n",
    "                \n",
    "       ))  #要先設初始值\n",
    "model.add(Activation(\"relu\"))\n",
    "model.add(Dropout(0.6))"
   ]
  },
  {
   "cell_type": "code",
   "execution_count": 20,
   "metadata": {},
   "outputs": [],
   "source": [
    "model.add(Dense( 1000,\n",
    "                \n",
    "                \n",
    "                kernel_initializer=\"normal\",\n",
    "                \n",
    "                bias_initializer=\"zeros\"\n",
    "       ))\n",
    "model.add(Activation(\"relu\"))\n",
    "model.add(Dropout(0.6))"
   ]
  },
  {
   "cell_type": "code",
   "execution_count": 21,
   "metadata": {},
   "outputs": [],
   "source": [
    " model.add(Dense( 1200,\n",
    "                \n",
    "                 \n",
    "                 kernel_initializer=\"normal\",\n",
    "                 bias_initializer=\"zeros\"\n",
    "                 ))\n",
    "model.add(Activation(\"relu\"))\n",
    "model.add(Dropout(0.6))"
   ]
  },
  {
   "cell_type": "code",
   "execution_count": 22,
   "metadata": {},
   "outputs": [],
   "source": [
    " model.add(Dense( 1200,\n",
    "                \n",
    "                 \n",
    "                 kernel_initializer=\"normal\",\n",
    "                 bias_initializer=\"zeros\"\n",
    "                 ))\n",
    "model.add(Activation(\"relu\"))\n",
    "model.add(Dropout(0.6))"
   ]
  },
  {
   "cell_type": "code",
   "execution_count": 23,
   "metadata": {},
   "outputs": [],
   "source": [
    " model.add(Dense( 700,\n",
    "                \n",
    "                 \n",
    "                 kernel_initializer=\"normal\",\n",
    "                 bias_initializer=\"zeros\"\n",
    "                 ))\n",
    "model.add(Activation(\"relu\"))\n",
    "model.add(Dropout(0.6))"
   ]
  },
  {
   "cell_type": "code",
   "execution_count": 24,
   "metadata": {},
   "outputs": [],
   "source": [
    "model.add(Dense( 700,\n",
    "                \n",
    "                 \n",
    "                 kernel_initializer=\"normal\",\n",
    "                 bias_initializer=\"zeros\"\n",
    "                 ))\n",
    "model.add(Activation(\"relu\"))\n",
    "model.add(Dropout(0.6))"
   ]
  },
  {
   "cell_type": "markdown",
   "metadata": {},
   "source": [
    "## 輸出要十維"
   ]
  },
  {
   "cell_type": "code",
   "execution_count": 25,
   "metadata": {},
   "outputs": [],
   "source": [
    "model.add(Dense(10))\n",
    "model.add(Activation(\"softmax\"))"
   ]
  },
  {
   "cell_type": "markdown",
   "metadata": {},
   "source": [
    "## ----------------------------------------------------- ##\n",
    "## 搭好了"
   ]
  },
  {
   "cell_type": "code",
   "execution_count": 26,
   "metadata": {},
   "outputs": [],
   "source": [
    "model.compile(loss=\"categorical_crossentropy\",optimizer=\"Adam\",metrics=[\"accuracy\"]) #metrics=[\"accuracy\"] 可以顯示訓練正確度"
   ]
  },
  {
   "cell_type": "code",
   "execution_count": 27,
   "metadata": {},
   "outputs": [
    {
     "name": "stdout",
     "output_type": "stream",
     "text": [
      "_________________________________________________________________\n",
      "Layer (type)                 Output Shape              Param #   \n",
      "=================================================================\n",
      "dense_1 (Dense)              (None, 1000)              785000    \n",
      "_________________________________________________________________\n",
      "activation_1 (Activation)    (None, 1000)              0         \n",
      "_________________________________________________________________\n",
      "dropout_1 (Dropout)          (None, 1000)              0         \n",
      "_________________________________________________________________\n",
      "dense_2 (Dense)              (None, 1000)              1001000   \n",
      "_________________________________________________________________\n",
      "activation_2 (Activation)    (None, 1000)              0         \n",
      "_________________________________________________________________\n",
      "dropout_2 (Dropout)          (None, 1000)              0         \n",
      "_________________________________________________________________\n",
      "dense_3 (Dense)              (None, 1200)              1201200   \n",
      "_________________________________________________________________\n",
      "activation_3 (Activation)    (None, 1200)              0         \n",
      "_________________________________________________________________\n",
      "dropout_3 (Dropout)          (None, 1200)              0         \n",
      "_________________________________________________________________\n",
      "dense_4 (Dense)              (None, 1200)              1441200   \n",
      "_________________________________________________________________\n",
      "activation_4 (Activation)    (None, 1200)              0         \n",
      "_________________________________________________________________\n",
      "dropout_4 (Dropout)          (None, 1200)              0         \n",
      "_________________________________________________________________\n",
      "dense_5 (Dense)              (None, 700)               840700    \n",
      "_________________________________________________________________\n",
      "activation_5 (Activation)    (None, 700)               0         \n",
      "_________________________________________________________________\n",
      "dropout_5 (Dropout)          (None, 700)               0         \n",
      "_________________________________________________________________\n",
      "dense_6 (Dense)              (None, 700)               490700    \n",
      "_________________________________________________________________\n",
      "activation_6 (Activation)    (None, 700)               0         \n",
      "_________________________________________________________________\n",
      "dropout_6 (Dropout)          (None, 700)               0         \n",
      "_________________________________________________________________\n",
      "dense_7 (Dense)              (None, 10)                7010      \n",
      "_________________________________________________________________\n",
      "activation_7 (Activation)    (None, 10)                0         \n",
      "=================================================================\n",
      "Total params: 5,766,810\n",
      "Trainable params: 5,766,810\n",
      "Non-trainable params: 0\n",
      "_________________________________________________________________\n"
     ]
    }
   ],
   "source": [
    "model.summary()"
   ]
  },
  {
   "cell_type": "code",
   "execution_count": 28,
   "metadata": {},
   "outputs": [
    {
     "data": {
      "text/plain": [
       "3140"
      ]
     },
     "execution_count": 28,
     "metadata": {},
     "output_type": "execute_result"
    }
   ],
   "source": [
    "784*4+4"
   ]
  },
  {
   "cell_type": "code",
   "execution_count": 29,
   "metadata": {},
   "outputs": [
    {
     "data": {
      "text/plain": [
       "10"
      ]
     },
     "execution_count": 29,
     "metadata": {},
     "output_type": "execute_result"
    }
   ],
   "source": [
    "4*2+2"
   ]
  },
  {
   "cell_type": "code",
   "execution_count": 31,
   "metadata": {},
   "outputs": [
    {
     "name": "stdout",
     "output_type": "stream",
     "text": [
      "Epoch 1/20\n",
      "60000/60000 [==============================] - 5s 77us/step - loss: 0.2909 - acc: 0.9416\n",
      "Epoch 2/20\n",
      "60000/60000 [==============================] - 5s 78us/step - loss: 0.2861 - acc: 0.9409\n",
      "Epoch 3/20\n",
      "60000/60000 [==============================] - 4s 75us/step - loss: 0.2939 - acc: 0.9409\n",
      "Epoch 4/20\n",
      "60000/60000 [==============================] - 4s 74us/step - loss: 0.2960 - acc: 0.9398\n",
      "Epoch 5/20\n",
      "60000/60000 [==============================] - 4s 74us/step - loss: 0.2968 - acc: 0.9402\n",
      "Epoch 6/20\n",
      "60000/60000 [==============================] - 5s 78us/step - loss: 0.2853 - acc: 0.9425\n",
      "Epoch 7/20\n",
      "60000/60000 [==============================] - 4s 74us/step - loss: 0.2955 - acc: 0.9417\n",
      "Epoch 8/20\n",
      "60000/60000 [==============================] - 4s 73us/step - loss: 0.3010 - acc: 0.9426\n",
      "Epoch 9/20\n",
      "60000/60000 [==============================] - 4s 73us/step - loss: 0.3137 - acc: 0.9423\n",
      "Epoch 10/20\n",
      "60000/60000 [==============================] - 4s 75us/step - loss: 0.3226 - acc: 0.9403\n",
      "Epoch 11/20\n",
      "60000/60000 [==============================] - 4s 73us/step - loss: 0.3030 - acc: 0.9410\n",
      "Epoch 12/20\n",
      "60000/60000 [==============================] - 4s 73us/step - loss: 0.3153 - acc: 0.9415\n",
      "Epoch 13/20\n",
      "60000/60000 [==============================] - 5s 75us/step - loss: 0.3218 - acc: 0.9387\n",
      "Epoch 14/20\n",
      "60000/60000 [==============================] - 4s 73us/step - loss: 0.3200 - acc: 0.9397\n",
      "Epoch 15/20\n",
      "60000/60000 [==============================] - 4s 75us/step - loss: 0.3195 - acc: 0.9413\n",
      "Epoch 16/20\n",
      "60000/60000 [==============================] - 4s 74us/step - loss: 0.3303 - acc: 0.9393\n",
      "Epoch 17/20\n",
      "60000/60000 [==============================] - 4s 74us/step - loss: 0.3272 - acc: 0.9416\n",
      "Epoch 18/20\n",
      "60000/60000 [==============================] - 4s 74us/step - loss: 0.3406 - acc: 0.9414\n",
      "Epoch 19/20\n",
      "60000/60000 [==============================] - 4s 74us/step - loss: 0.3414 - acc: 0.9376\n",
      "Epoch 20/20\n",
      "60000/60000 [==============================] - 4s 74us/step - loss: 0.3410 - acc: 0.9392\n"
     ]
    },
    {
     "data": {
      "text/plain": [
       "<keras.callbacks.History at 0x2624b7da4a8>"
      ]
     },
     "execution_count": 31,
     "metadata": {},
     "output_type": "execute_result"
    }
   ],
   "source": [
    "model.fit(x_train,y_train,batch_size=100,epochs=20)"
   ]
  },
  {
   "cell_type": "code",
   "execution_count": 32,
   "metadata": {},
   "outputs": [
    {
     "name": "stdout",
     "output_type": "stream",
     "text": [
      "10000/10000 [==============================] - 1s 59us/step\n",
      "loss 0.22680114539163188\n",
      "正確率 0.9664\n"
     ]
    }
   ],
   "source": [
    "score=model.evaluate(x_test,y_test)\n",
    "print(\"loss\",score[0])\n",
    "print(\"正確率\",score[1])"
   ]
  },
  {
   "cell_type": "code",
   "execution_count": 34,
   "metadata": {},
   "outputs": [],
   "source": [
    "#存model\n",
    "model_json=model.to_json()\n",
    "open(\"stupid_model.json\",'w').write(model_json)\n",
    "model.save_weights(\"stupid_model_weights.h5\") #存重"
   ]
  },
  {
   "cell_type": "code",
   "execution_count": null,
   "metadata": {},
   "outputs": [],
   "source": []
  }
 ],
 "metadata": {
  "kernelspec": {
   "display_name": "Python 3",
   "language": "python",
   "name": "python3"
  }
 },
 "nbformat": 4,
 "nbformat_minor": 2
}
